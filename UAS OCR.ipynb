{
 "cells": [
  {
   "cell_type": "code",
   "execution_count": 1,
   "id": "2965b029",
   "metadata": {},
   "outputs": [],
   "source": [
    "import numpy as np\n",
    "import tensorflow as tf\n",
    "from tensorflow import keras\n",
    "import matplotlib.pyplot as plt\n",
    "import os\n",
    "import cv2\n",
    "\n",
    "DATADIR = r\"C:\\Users\\Vaibhavi\\Desktop\\OCR\\training\"\n",
    "CATEGORIES = [\"0\" , \"1\" , \"2\" , \"3\" , \"4\" , \"5\" , \"6\" , \"7\" , \"8\" , \"9\"]\n",
    "training_data = []\n",
    "for category in CATEGORIES:\n",
    "    path = os.path.join(DATADIR, category)\n",
    "    class_num = CATEGORIES.index(category)\n",
    "    for img in os.listdir(path):\n",
    "        img_array = cv2.imread(os.path.join(path, img), cv2.IMREAD_GRAYSCALE)\n",
    "        img_flattened = img_array.reshape((1080000))\n",
    "        training_data.append([img_flattened , class_num])\n",
    "        "
   ]
  },
  {
   "cell_type": "code",
   "execution_count": 2,
   "id": "e66bd774",
   "metadata": {},
   "outputs": [
    {
     "data": {
      "text/plain": [
       "400"
      ]
     },
     "execution_count": 2,
     "metadata": {},
     "output_type": "execute_result"
    }
   ],
   "source": [
    "len(training_data)"
   ]
  },
  {
   "cell_type": "code",
   "execution_count": 3,
   "id": "2564becf",
   "metadata": {},
   "outputs": [
    {
     "data": {
      "text/plain": [
       "[array([255, 255, 255, ..., 255, 255, 255], dtype=uint8), 0]"
      ]
     },
     "execution_count": 3,
     "metadata": {},
     "output_type": "execute_result"
    }
   ],
   "source": [
    "training_data[0]"
   ]
  },
  {
   "cell_type": "code",
   "execution_count": 4,
   "id": "0dc5d5b1",
   "metadata": {},
   "outputs": [],
   "source": [
    "import random\n",
    "random.shuffle(training_data)"
   ]
  },
  {
   "cell_type": "code",
   "execution_count": 5,
   "id": "50c16891",
   "metadata": {},
   "outputs": [
    {
     "data": {
      "text/plain": [
       "[array([255, 255, 255, ..., 255, 255, 255], dtype=uint8), 8]"
      ]
     },
     "execution_count": 5,
     "metadata": {},
     "output_type": "execute_result"
    }
   ],
   "source": [
    "training_data[0]"
   ]
  },
  {
   "cell_type": "code",
   "execution_count": 6,
   "id": "9b97c95d",
   "metadata": {},
   "outputs": [
    {
     "name": "stdout",
     "output_type": "stream",
     "text": [
      "8\n",
      "5\n",
      "9\n",
      "7\n",
      "4\n"
     ]
    }
   ],
   "source": [
    "for sample in training_data[0:5]:\n",
    "    print(sample[1])"
   ]
  },
  {
   "cell_type": "code",
   "execution_count": 7,
   "id": "bbff4901",
   "metadata": {},
   "outputs": [
    {
     "data": {
      "text/plain": [
       "(400,)"
      ]
     },
     "execution_count": 7,
     "metadata": {},
     "output_type": "execute_result"
    }
   ],
   "source": [
    "x_train = []\n",
    "y_train = []\n",
    "for features, label in training_data:\n",
    "    x_train.append(features)\n",
    "    y_train.append(label)\n",
    "\n",
    "x_train = np.array(x_train)/255\n",
    "y_train = np.array(y_train, dtype = int)\n",
    "y_train.shape\n",
    "#shape of x_train is (1080000,)"
   ]
  },
  {
   "cell_type": "markdown",
   "id": "17a54baf",
   "metadata": {},
   "source": [
    "##Simple neural network with no hidden layers"
   ]
  },
  {
   "cell_type": "code",
   "execution_count": 8,
   "id": "854fc43b",
   "metadata": {},
   "outputs": [
    {
     "name": "stdout",
     "output_type": "stream",
     "text": [
      "Epoch 1/20\n",
      "13/13 [==============================] - 5s 122ms/step - loss: 1678.3889 - accuracy: 0.0950\n",
      "Epoch 2/20\n",
      "13/13 [==============================] - 2s 129ms/step - loss: 1152.7408 - accuracy: 0.1175\n",
      "Epoch 3/20\n",
      "13/13 [==============================] - 2s 128ms/step - loss: 499.1152 - accuracy: 0.1400\n",
      "Epoch 4/20\n",
      "13/13 [==============================] - 2s 123ms/step - loss: 231.3591 - accuracy: 0.2425\n",
      "Epoch 5/20\n",
      "13/13 [==============================] - 2s 124ms/step - loss: 175.7828 - accuracy: 0.2375\n",
      "Epoch 6/20\n",
      "13/13 [==============================] - 2s 124ms/step - loss: 151.4115 - accuracy: 0.3000\n",
      "Epoch 7/20\n",
      "13/13 [==============================] - 2s 126ms/step - loss: 134.8647 - accuracy: 0.3875\n",
      "Epoch 8/20\n",
      "13/13 [==============================] - 2s 125ms/step - loss: 128.4379 - accuracy: 0.3800\n",
      "Epoch 9/20\n",
      "13/13 [==============================] - 2s 123ms/step - loss: 92.7405 - accuracy: 0.4100\n",
      "Epoch 10/20\n",
      "13/13 [==============================] - 2s 123ms/step - loss: 159.6703 - accuracy: 0.3775\n",
      "Epoch 11/20\n",
      "13/13 [==============================] - 2s 124ms/step - loss: 179.2741 - accuracy: 0.3125\n",
      "Epoch 12/20\n",
      "13/13 [==============================] - 2s 127ms/step - loss: 176.3368 - accuracy: 0.3475\n",
      "Epoch 13/20\n",
      "13/13 [==============================] - 2s 124ms/step - loss: 191.2017 - accuracy: 0.3500\n",
      "Epoch 14/20\n",
      "13/13 [==============================] - 2s 124ms/step - loss: 139.4708 - accuracy: 0.3975\n",
      "Epoch 15/20\n",
      "13/13 [==============================] - 2s 127ms/step - loss: 79.1034 - accuracy: 0.4550\n",
      "Epoch 16/20\n",
      "13/13 [==============================] - 2s 126ms/step - loss: 97.8796 - accuracy: 0.4125\n",
      "Epoch 17/20\n",
      "13/13 [==============================] - 2s 123ms/step - loss: 95.7018 - accuracy: 0.4375\n",
      "Epoch 18/20\n",
      "13/13 [==============================] - 2s 126ms/step - loss: 61.5820 - accuracy: 0.5325\n",
      "Epoch 19/20\n",
      "13/13 [==============================] - 2s 125ms/step - loss: 43.4530 - accuracy: 0.5525\n",
      "Epoch 20/20\n",
      "13/13 [==============================] - 2s 123ms/step - loss: 62.4467 - accuracy: 0.5200\n"
     ]
    },
    {
     "data": {
      "text/plain": [
       "<keras.callbacks.History at 0x26169cd31f0>"
      ]
     },
     "execution_count": 8,
     "metadata": {},
     "output_type": "execute_result"
    }
   ],
   "source": [
    "model = keras.Sequential([\n",
    "    keras.layers.Dense(10, input_shape=(1080000,), activation='sigmoid')\n",
    "])\n",
    "model.compile(optimizer='adam',\n",
    "              loss='sparse_categorical_crossentropy',\n",
    "              metrics=['accuracy'])\n",
    "model.fit(x_train, y_train, epochs=20)"
   ]
  },
  {
   "cell_type": "code",
   "execution_count": null,
   "id": "d039ca5a",
   "metadata": {},
   "outputs": [],
   "source": []
  }
 ],
 "metadata": {
  "kernelspec": {
   "display_name": "Python 3",
   "language": "python",
   "name": "python3"
  },
  "language_info": {
   "codemirror_mode": {
    "name": "ipython",
    "version": 3
   },
   "file_extension": ".py",
   "mimetype": "text/x-python",
   "name": "python",
   "nbconvert_exporter": "python",
   "pygments_lexer": "ipython3",
   "version": "3.8.8"
  }
 },
 "nbformat": 4,
 "nbformat_minor": 5
}
